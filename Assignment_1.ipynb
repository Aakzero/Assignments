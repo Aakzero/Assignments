{
 "cells": [
  {
   "cell_type": "code",
   "execution_count": null,
   "id": "6cd524a6",
   "metadata": {},
   "outputs": [],
   "source": [
    "1. values= * , 'hello' , -87.8 , 6\n",
    "   expression= - , / , +"
   ]
  },
  {
   "cell_type": "code",
   "execution_count": null,
   "id": "a79dcaab",
   "metadata": {},
   "outputs": [],
   "source": [
    "2. String is a datatype and a variable is something which stores data, which can be changed."
   ]
  },
  {
   "cell_type": "code",
   "execution_count": null,
   "id": "571e15ee",
   "metadata": {},
   "outputs": [],
   "source": [
    "3. INT = INT is an integer datatype ex- 1,2,3,-1,0,-3 and so on.\n",
    "   FLOAT= FLOAT is a datatype which consists of numbers with decimal, ex- 1.01, 3.98, 5.00 etc.\n",
    "   Boolean= Boolean is datatype consists only of true and false value."
   ]
  },
  {
   "cell_type": "code",
   "execution_count": null,
   "id": "33c78515",
   "metadata": {},
   "outputs": [],
   "source": [
    "4. An expression is used to represent a value\n",
    "   It consists of identifiers, literals and operators"
   ]
  },
  {
   "cell_type": "code",
   "execution_count": null,
   "id": "c4106c44",
   "metadata": {},
   "outputs": [],
   "source": [
    "5. A statement is a action or command that does something.\n",
    "   An expression is used to represent a value. It consists of identifiers, literals and operators."
   ]
  },
  {
   "cell_type": "code",
   "execution_count": null,
   "id": "2aafcbed",
   "metadata": {},
   "outputs": [],
   "source": [
    "6. After running the code bacon in increased by 1 to 23. Therefore bacon = 23"
   ]
  },
  {
   "cell_type": "code",
   "execution_count": null,
   "id": "cf4b5bc3",
   "metadata": {},
   "outputs": [],
   "source": [
    "7. 1)spamspamspam\n",
    "   2)cannot concatenate a string and a numbers"
   ]
  },
  {
   "cell_type": "code",
   "execution_count": null,
   "id": "2f8055ae",
   "metadata": {},
   "outputs": [],
   "source": [
    "8. As a variable must start with letters or an underscore and not with numbers, 100 is invalid name for a variable"
   ]
  },
  {
   "cell_type": "code",
   "execution_count": null,
   "id": "e11cc732",
   "metadata": {},
   "outputs": [],
   "source": [
    "9. int() , float(), str() can be used to get the version of a value."
   ]
  },
  {
   "cell_type": "code",
   "execution_count": null,
   "id": "dffff671",
   "metadata": {},
   "outputs": [],
   "source": [
    "10. The statement causes an error as concatenation of a integer and a string is not possible.\n",
    "    To overcome this we must convert the integer value into a string, ie 'I have eaten ' + str(99) + ' burritos.'"
   ]
  }
 ],
 "metadata": {
  "kernelspec": {
   "display_name": "Python 3 (ipykernel)",
   "language": "python",
   "name": "python3"
  },
  "language_info": {
   "codemirror_mode": {
    "name": "ipython",
    "version": 3
   },
   "file_extension": ".py",
   "mimetype": "text/x-python",
   "name": "python",
   "nbconvert_exporter": "python",
   "pygments_lexer": "ipython3",
   "version": "3.9.12"
  }
 },
 "nbformat": 4,
 "nbformat_minor": 5
}
